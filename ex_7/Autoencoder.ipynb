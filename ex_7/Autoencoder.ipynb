{
 "cells": [
  {
   "cell_type": "code",
   "execution_count": 25,
   "metadata": {},
   "outputs": [],
   "source": [
    "import torch\n",
    "import torch.nn as nn\n",
    "from torchvision import datasets, transforms\n",
    "import torch.optim as optim\n",
    "from torch.utils.data import DataLoader, TensorDataset\n",
    "\n",
    "class Encoder(nn.Module):\n",
    "    def __init__(self):\n",
    "        super(Encoder, self).__init__()\n",
    "        self.fc1 = nn.Linear(784, 400)\n",
    "        self.fc2 = nn.Linear(400, 200)\n",
    "        self.fc3 = nn.Linear(200, 100)\n",
    "        self.fc4 = nn.Linear(100, 50)\n",
    "    def forward(self, x):\n",
    "        x = torch.relu(self.fc1(x))\n",
    "        x = torch.relu(self.fc2(x))\n",
    "        x = torch.relu(self.fc3(x))\n",
    "        x = self.fc4(x)\n",
    "        return x\n",
    "    \n",
    "class Decoder(nn.Module):\n",
    "    def __init__(self):\n",
    "        super(Decoder, self).__init__()\n",
    "        self.fc1 = nn.Linear(50, 100)\n",
    "        self.fc2 = nn.Linear(100, 200)\n",
    "        self.fc3 = nn.Linear(200, 400)\n",
    "        self.fc4 = nn.Linear(400, 784)\n",
    "    def forward(self, x):\n",
    "        x = torch.relu(self.fc1(x))\n",
    "        x = torch.relu(self.fc2(x))\n",
    "        x = torch.relu(self.fc3(x))\n",
    "        x = self.fc4(x)\n",
    "        return x "
   ]
  },
  {
   "cell_type": "code",
   "execution_count": 26,
   "metadata": {},
   "outputs": [
    {
     "name": "stdout",
     "output_type": "stream",
     "text": [
      "Epoch [1/10], Average Loss: 0.0379\n",
      "Epoch [2/10], Average Loss: 0.0223\n",
      "Epoch [3/10], Average Loss: 0.0184\n",
      "Epoch [4/10], Average Loss: 0.0164\n",
      "Epoch [5/10], Average Loss: 0.0150\n",
      "Epoch [6/10], Average Loss: 0.0138\n",
      "Epoch [7/10], Average Loss: 0.0130\n",
      "Epoch [8/10], Average Loss: 0.0123\n",
      "Epoch [9/10], Average Loss: 0.0116\n",
      "Epoch [10/10], Average Loss: 0.0111\n"
     ]
    }
   ],
   "source": [
    "batch_size = 64\n",
    "learning_rate = 0.001\n",
    "root = './datasets'\n",
    "# 加载数据集\n",
    "train_dataset =  datasets.MNIST(root, train=True, transform=transforms.ToTensor(), download=True)\n",
    "\n",
    "# 创建数据加载器\n",
    "train_loader = DataLoader(dataset=train_dataset, batch_size=batch_size, shuffle=True, num_workers=0, drop_last=False)\n",
    "\n",
    "encoder = Encoder()\n",
    "decoder = Decoder()\n",
    "criterion = nn.MSELoss()\n",
    "optimizer = optim.Adam(list(encoder.parameters())+list(decoder.parameters()), lr=learning_rate)\n",
    "\n",
    "# 训练模型\n",
    "num_epochs = 10\n",
    "for epoch in range(num_epochs):\n",
    "    total_loss = 0\n",
    "    for inputs, labels in train_loader:\n",
    "        inputs = torch.flatten(inputs, start_dim=-2) \n",
    "        optimizer.zero_grad()\n",
    "        en_outputs = encoder(inputs)\n",
    "        de_outputs = decoder(en_outputs)\n",
    "        loss = criterion(de_outputs, inputs)\n",
    "        loss.backward()\n",
    "        optimizer.step()\n",
    "        total_loss += loss.item()\n",
    "\n",
    "    avg_loss = total_loss / len(train_loader)\n",
    "    print(f'Epoch [{epoch+1}/{num_epochs}], Average Loss: {avg_loss:.4f}')\n",
    "\n",
    "\n"
   ]
  },
  {
   "cell_type": "code",
   "execution_count": 27,
   "metadata": {},
   "outputs": [],
   "source": [
    "import os\n",
    "import torch\n",
    "\n",
    "# 假设encoder和decoder是你的模型实例\n",
    "\n",
    "# 创建保存模型的目录（如果它还不存在）\n",
    "model_dir = './model'\n",
    "os.makedirs(model_dir, exist_ok=True)\n",
    "\n",
    "# 保存模型状态字典\n",
    "torch.save(encoder.state_dict(), os.path.join(model_dir, 'encoder.pth'))\n",
    "torch.save(decoder.state_dict(), os.path.join(model_dir, 'decoder.pth'))\n"
   ]
  }
 ],
 "metadata": {
  "kernelspec": {
   "display_name": "Python 3",
   "language": "python",
   "name": "python3"
  },
  "language_info": {
   "codemirror_mode": {
    "name": "ipython",
    "version": 3
   },
   "file_extension": ".py",
   "mimetype": "text/x-python",
   "name": "python",
   "nbconvert_exporter": "python",
   "pygments_lexer": "ipython3",
   "version": "3.9.6"
  }
 },
 "nbformat": 4,
 "nbformat_minor": 2
}
